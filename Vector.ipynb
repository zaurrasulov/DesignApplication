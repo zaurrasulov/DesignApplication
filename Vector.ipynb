{
 "cells": [
  {
   "cell_type": "markdown",
   "metadata": {},
   "source": [
    "# Load Prediction for 1D Linear Elastic Problems"
   ]
  },
  {
   "cell_type": "code",
   "execution_count": 1,
   "metadata": {},
   "outputs": [],
   "source": [
    "import pandas as pd\n",
    "import numpy as np\n",
    "import matplotlib.pyplot as plt\n",
    "import seaborn as sns\n",
    "\n",
    "from sklearn.model_selection import train_test_split\n",
    "from sklearn.model_selection import RandomizedSearchCV\n",
    "from sklearn.model_selection import GridSearchCV, cross_val_score, cross_val_predict\n",
    "\n",
    "from sklearn.linear_model import LinearRegression\n",
    "import xgboost as xg\n",
    "from sklearn.ensemble import RandomForestRegressor\n",
    "from sklearn.tree import DecisionTreeRegressor\n",
    "\n",
    "from sklearn import metrics\n"
   ]
  },
  {
   "cell_type": "code",
   "execution_count": 2,
   "metadata": {},
   "outputs": [
    {
     "name": "stdout",
     "output_type": "stream",
     "text": [
      "The shape of the dataset is: (300, 5)\n"
     ]
    }
   ],
   "source": [
    "# uploading the dataset\n",
    "df = pd.read_excel(r'F_Dataset.xlsx')\n",
    "print(f'The shape of the dataset is: {df.shape}')"
   ]
  },
  {
   "cell_type": "code",
   "execution_count": 3,
   "metadata": {},
   "outputs": [
    {
     "data": {
      "text/html": [
       "<div>\n",
       "<style scoped>\n",
       "    .dataframe tbody tr th:only-of-type {\n",
       "        vertical-align: middle;\n",
       "    }\n",
       "\n",
       "    .dataframe tbody tr th {\n",
       "        vertical-align: top;\n",
       "    }\n",
       "\n",
       "    .dataframe thead th {\n",
       "        text-align: right;\n",
       "    }\n",
       "</style>\n",
       "<table border=\"1\" class=\"dataframe\">\n",
       "  <thead>\n",
       "    <tr style=\"text-align: right;\">\n",
       "      <th></th>\n",
       "      <th>h_e</th>\n",
       "      <th>f_e</th>\n",
       "      <th>A</th>\n",
       "      <th>te</th>\n",
       "      <th>Fe</th>\n",
       "    </tr>\n",
       "  </thead>\n",
       "  <tbody>\n",
       "    <tr>\n",
       "      <th>0</th>\n",
       "      <td>0.003344</td>\n",
       "      <td>0.3</td>\n",
       "      <td>15.991892</td>\n",
       "      <td>-0.5</td>\n",
       "      <td>0.003177</td>\n",
       "    </tr>\n",
       "    <tr>\n",
       "      <th>1</th>\n",
       "      <td>0.003344</td>\n",
       "      <td>0.3</td>\n",
       "      <td>15.985811</td>\n",
       "      <td>-1.5</td>\n",
       "      <td>0.001503</td>\n",
       "    </tr>\n",
       "    <tr>\n",
       "      <th>2</th>\n",
       "      <td>0.003344</td>\n",
       "      <td>0.3</td>\n",
       "      <td>15.979730</td>\n",
       "      <td>0.5</td>\n",
       "      <td>0.004846</td>\n",
       "    </tr>\n",
       "    <tr>\n",
       "      <th>3</th>\n",
       "      <td>0.003344</td>\n",
       "      <td>0.3</td>\n",
       "      <td>15.973650</td>\n",
       "      <td>-0.5</td>\n",
       "      <td>0.003172</td>\n",
       "    </tr>\n",
       "    <tr>\n",
       "      <th>4</th>\n",
       "      <td>0.003344</td>\n",
       "      <td>0.3</td>\n",
       "      <td>15.967569</td>\n",
       "      <td>-1.5</td>\n",
       "      <td>0.001498</td>\n",
       "    </tr>\n",
       "    <tr>\n",
       "      <th>5</th>\n",
       "      <td>0.003344</td>\n",
       "      <td>0.3</td>\n",
       "      <td>15.961488</td>\n",
       "      <td>0.5</td>\n",
       "      <td>0.004841</td>\n",
       "    </tr>\n",
       "    <tr>\n",
       "      <th>6</th>\n",
       "      <td>0.003344</td>\n",
       "      <td>0.3</td>\n",
       "      <td>15.955407</td>\n",
       "      <td>-0.5</td>\n",
       "      <td>0.003168</td>\n",
       "    </tr>\n",
       "    <tr>\n",
       "      <th>7</th>\n",
       "      <td>0.003344</td>\n",
       "      <td>0.3</td>\n",
       "      <td>15.949326</td>\n",
       "      <td>-1.5</td>\n",
       "      <td>0.001494</td>\n",
       "    </tr>\n",
       "    <tr>\n",
       "      <th>8</th>\n",
       "      <td>0.003344</td>\n",
       "      <td>0.3</td>\n",
       "      <td>15.943245</td>\n",
       "      <td>0.5</td>\n",
       "      <td>0.004837</td>\n",
       "    </tr>\n",
       "    <tr>\n",
       "      <th>9</th>\n",
       "      <td>0.003344</td>\n",
       "      <td>0.3</td>\n",
       "      <td>15.937164</td>\n",
       "      <td>-0.5</td>\n",
       "      <td>0.003163</td>\n",
       "    </tr>\n",
       "  </tbody>\n",
       "</table>\n",
       "</div>"
      ],
      "text/plain": [
       "        h_e  f_e          A   te        Fe\n",
       "0  0.003344  0.3  15.991892 -0.5  0.003177\n",
       "1  0.003344  0.3  15.985811 -1.5  0.001503\n",
       "2  0.003344  0.3  15.979730  0.5  0.004846\n",
       "3  0.003344  0.3  15.973650 -0.5  0.003172\n",
       "4  0.003344  0.3  15.967569 -1.5  0.001498\n",
       "5  0.003344  0.3  15.961488  0.5  0.004841\n",
       "6  0.003344  0.3  15.955407 -0.5  0.003168\n",
       "7  0.003344  0.3  15.949326 -1.5  0.001494\n",
       "8  0.003344  0.3  15.943245  0.5  0.004837\n",
       "9  0.003344  0.3  15.937164 -0.5  0.003163"
      ]
     },
     "execution_count": 3,
     "metadata": {},
     "output_type": "execute_result"
    }
   ],
   "source": [
    "#checking the first elements of the dataset.\n",
    "df.head(10)"
   ]
  },
  {
   "cell_type": "code",
   "execution_count": 4,
   "metadata": {},
   "outputs": [
    {
     "name": "stdout",
     "output_type": "stream",
     "text": [
      "<class 'pandas.core.frame.DataFrame'>\n",
      "RangeIndex: 300 entries, 0 to 299\n",
      "Data columns (total 5 columns):\n",
      " #   Column  Non-Null Count  Dtype  \n",
      "---  ------  --------------  -----  \n",
      " 0   h_e     300 non-null    float64\n",
      " 1   f_e     300 non-null    float64\n",
      " 2   A       300 non-null    float64\n",
      " 3   te      300 non-null    float64\n",
      " 4   Fe      300 non-null    float64\n",
      "dtypes: float64(5)\n",
      "memory usage: 11.8 KB\n"
     ]
    }
   ],
   "source": [
    "df.info()"
   ]
  },
  {
   "cell_type": "code",
   "execution_count": 5,
   "metadata": {},
   "outputs": [
    {
     "data": {
      "text/html": [
       "<div>\n",
       "<style scoped>\n",
       "    .dataframe tbody tr th:only-of-type {\n",
       "        vertical-align: middle;\n",
       "    }\n",
       "\n",
       "    .dataframe tbody tr th {\n",
       "        vertical-align: top;\n",
       "    }\n",
       "\n",
       "    .dataframe thead th {\n",
       "        text-align: right;\n",
       "    }\n",
       "</style>\n",
       "<table border=\"1\" class=\"dataframe\">\n",
       "  <thead>\n",
       "    <tr style=\"text-align: right;\">\n",
       "      <th></th>\n",
       "      <th>h_e</th>\n",
       "      <th>f_e</th>\n",
       "      <th>A</th>\n",
       "      <th>te</th>\n",
       "      <th>Fe</th>\n",
       "    </tr>\n",
       "  </thead>\n",
       "  <tbody>\n",
       "    <tr>\n",
       "      <th>count</th>\n",
       "      <td>3.000000e+02</td>\n",
       "      <td>3.000000e+02</td>\n",
       "      <td>300.000000</td>\n",
       "      <td>300.000000</td>\n",
       "      <td>300.000000</td>\n",
       "    </tr>\n",
       "    <tr>\n",
       "      <th>mean</th>\n",
       "      <td>3.344482e-03</td>\n",
       "      <td>3.000000e-01</td>\n",
       "      <td>15.085852</td>\n",
       "      <td>-0.393667</td>\n",
       "      <td>0.003127</td>\n",
       "    </tr>\n",
       "    <tr>\n",
       "      <th>std</th>\n",
       "      <td>9.268499e-11</td>\n",
       "      <td>1.668117e-15</td>\n",
       "      <td>0.524861</td>\n",
       "      <td>1.076564</td>\n",
       "      <td>0.001815</td>\n",
       "    </tr>\n",
       "    <tr>\n",
       "      <th>min</th>\n",
       "      <td>3.344480e-03</td>\n",
       "      <td>3.000000e-01</td>\n",
       "      <td>14.179791</td>\n",
       "      <td>-3.500000</td>\n",
       "      <td>-0.001965</td>\n",
       "    </tr>\n",
       "    <tr>\n",
       "      <th>25%</th>\n",
       "      <td>3.344482e-03</td>\n",
       "      <td>3.000000e-01</td>\n",
       "      <td>14.634337</td>\n",
       "      <td>-1.500000</td>\n",
       "      <td>0.001401</td>\n",
       "    </tr>\n",
       "    <tr>\n",
       "      <th>50%</th>\n",
       "      <td>3.344482e-03</td>\n",
       "      <td>3.000000e-01</td>\n",
       "      <td>15.087362</td>\n",
       "      <td>-0.500000</td>\n",
       "      <td>0.002959</td>\n",
       "    </tr>\n",
       "    <tr>\n",
       "      <th>75%</th>\n",
       "      <td>3.344482e-03</td>\n",
       "      <td>3.000000e-01</td>\n",
       "      <td>15.537347</td>\n",
       "      <td>0.500000</td>\n",
       "      <td>0.004536</td>\n",
       "    </tr>\n",
       "    <tr>\n",
       "      <th>max</th>\n",
       "      <td>3.344482e-03</td>\n",
       "      <td>3.000000e-01</td>\n",
       "      <td>15.991892</td>\n",
       "      <td>6.700000</td>\n",
       "      <td>0.015086</td>\n",
       "    </tr>\n",
       "  </tbody>\n",
       "</table>\n",
       "</div>"
      ],
      "text/plain": [
       "                h_e           f_e           A          te          Fe\n",
       "count  3.000000e+02  3.000000e+02  300.000000  300.000000  300.000000\n",
       "mean   3.344482e-03  3.000000e-01   15.085852   -0.393667    0.003127\n",
       "std    9.268499e-11  1.668117e-15    0.524861    1.076564    0.001815\n",
       "min    3.344480e-03  3.000000e-01   14.179791   -3.500000   -0.001965\n",
       "25%    3.344482e-03  3.000000e-01   14.634337   -1.500000    0.001401\n",
       "50%    3.344482e-03  3.000000e-01   15.087362   -0.500000    0.002959\n",
       "75%    3.344482e-03  3.000000e-01   15.537347    0.500000    0.004536\n",
       "max    3.344482e-03  3.000000e-01   15.991892    6.700000    0.015086"
      ]
     },
     "execution_count": 5,
     "metadata": {},
     "output_type": "execute_result"
    }
   ],
   "source": [
    "# checking the description\n",
    "df.describe()"
   ]
  },
  {
   "cell_type": "markdown",
   "metadata": {},
   "source": [
    "## Data Cleaning"
   ]
  },
  {
   "cell_type": "code",
   "execution_count": 6,
   "metadata": {},
   "outputs": [
    {
     "data": {
      "text/plain": [
       "h_e    0.0\n",
       "f_e    0.0\n",
       "A      0.0\n",
       "te     0.0\n",
       "Fe     0.0\n",
       "dtype: float64"
      ]
     },
     "execution_count": 6,
     "metadata": {},
     "output_type": "execute_result"
    }
   ],
   "source": [
    "#checking the null values\n",
    "df.isnull().mean()*100"
   ]
  },
  {
   "cell_type": "code",
   "execution_count": 7,
   "metadata": {},
   "outputs": [
    {
     "data": {
      "text/plain": [
       "0.0"
      ]
     },
     "execution_count": 7,
     "metadata": {},
     "output_type": "execute_result"
    }
   ],
   "source": [
    "df.duplicated().mean()*100"
   ]
  },
  {
   "cell_type": "markdown",
   "metadata": {},
   "source": [
    "## Data Visualization "
   ]
  },
  {
   "cell_type": "code",
   "execution_count": 8,
   "metadata": {},
   "outputs": [
    {
     "name": "stderr",
     "output_type": "stream",
     "text": [
      "C:\\Users\\Zaur\\anaconda3\\lib\\site-packages\\seaborn\\distributions.py:2551: FutureWarning: `distplot` is a deprecated function and will be removed in a future version. Please adapt your code to use either `displot` (a figure-level function with similar flexibility) or `histplot` (an axes-level function for histograms).\n",
      "  warnings.warn(msg, FutureWarning)\n",
      "C:\\Users\\Zaur\\anaconda3\\lib\\site-packages\\seaborn\\distributions.py:305: UserWarning: Dataset has 0 variance; skipping density estimate.\n",
      "  warnings.warn(msg, UserWarning)\n"
     ]
    },
    {
     "data": {
      "image/png": "[encoded data removed]",
      "text/plain": [
       "<Figure size 432x432 with 1 Axes>"
      ]
     },
     "metadata": {
      "needs_background": "light"
     },
     "output_type": "display_data"
    },
    {
     "name": "stderr",
     "output_type": "stream",
     "text": [
      "C:\\Users\\Zaur\\anaconda3\\lib\\site-packages\\seaborn\\distributions.py:2551: FutureWarning: `distplot` is a deprecated function and will be removed in a future version. Please adapt your code to use either `displot` (a figure-level function with similar flexibility) or `histplot` (an axes-level function for histograms).\n",
      "  warnings.warn(msg, FutureWarning)\n",
      "C:\\Users\\Zaur\\anaconda3\\lib\\site-packages\\seaborn\\distributions.py:305: UserWarning: Dataset has 0 variance; skipping density estimate.\n",
      "  warnings.warn(msg, UserWarning)\n"
     ]
    },
    {
     "data": {
      "image/png": "[encoded data removed]",
      "text/plain": [
       "<Figure size 432x432 with 1 Axes>"
      ]
     },
     "metadata": {
      "needs_background": "light"
     },
     "output_type": "display_data"
    },
    {
     "name": "stderr",
     "output_type": "stream",
     "text": [
      "C:\\Users\\Zaur\\anaconda3\\lib\\site-packages\\seaborn\\distributions.py:2551: FutureWarning: `distplot` is a deprecated function and will be removed in a future version. Please adapt your code to use either `displot` (a figure-level function with similar flexibility) or `histplot` (an axes-level function for histograms).\n",
      "  warnings.warn(msg, FutureWarning)\n"
     ]
    },
    {
     "data": {
      "image/png": "[encoded data removed]",
      "text/plain": [
       "<Figure size 432x432 with 1 Axes>"
      ]
     },
     "metadata": {
      "needs_background": "light"
     },
     "output_type": "display_data"
    },
    {
     "name": "stderr",
     "output_type": "stream",
     "text": [
      "C:\\Users\\Zaur\\anaconda3\\lib\\site-packages\\seaborn\\distributions.py:2551: FutureWarning: `distplot` is a deprecated function and will be removed in a future version. Please adapt your code to use either `displot` (a figure-level function with similar flexibility) or `histplot` (an axes-level function for histograms).\n",
      "  warnings.warn(msg, FutureWarning)\n"
     ]
    },
    {
     "data": {
      "image/png": "[encoded data removed]",
      "text/plain": [
       "<Figure size 432x432 with 1 Axes>"
      ]
     },
     "metadata": {
      "needs_background": "light"
     },
     "output_type": "display_data"
    },
    {
     "name": "stderr",
     "output_type": "stream",
     "text": [
      "C:\\Users\\Zaur\\anaconda3\\lib\\site-packages\\seaborn\\distributions.py:2551: FutureWarning: `distplot` is a deprecated function and will be removed in a future version. Please adapt your code to use either `displot` (a figure-level function with similar flexibility) or `histplot` (an axes-level function for histograms).\n",
      "  warnings.warn(msg, FutureWarning)\n"
     ]
    },
    {
     "data": {
      "image/png": "[encoded data removed]",
      "text/plain": [
       "<Figure size 432x432 with 1 Axes>"
      ]
     },
     "metadata": {
      "needs_background": "light"
     },
     "output_type": "display_data"
    }
   ],
   "source": [
    "# distributions\n",
    "for i in df.columns:\n",
    "    plt.figure(figsize=(6,6))\n",
    "    sns.distplot(df[i])\n",
    "    plt.title(i, size=15)\n",
    "    plt.show()"
   ]
  },
  {
   "cell_type": "code",
   "execution_count": 9,
   "metadata": {},
   "outputs": [
    {
     "data": {
      "image/png": "[encoded data removed]",
      "text/plain": [
       "<Figure size 864x720 with 2 Axes>"
      ]
     },
     "metadata": {
      "needs_background": "light"
     },
     "output_type": "display_data"
    }
   ],
   "source": [
    "plt.figure(figsize=(12,10))\n",
    "sns.heatmap(df.corr(),annot=True, cmap=\"RdBu\")\n",
    "plt.title(\"Correlation Between Variables\", size=15)\n",
    "plt.show()"
   ]
  },
  {
   "cell_type": "markdown",
   "metadata": {},
   "source": [
    "## Data Preprocessing"
   ]
  },
  {
   "cell_type": "code",
   "execution_count": 10,
   "metadata": {},
   "outputs": [
    {
     "data": {
      "text/plain": [
       "((210, 4), (90, 4))"
      ]
     },
     "execution_count": 10,
     "metadata": {},
     "output_type": "execute_result"
    }
   ],
   "source": [
    "# splitting into train and test sets: \n",
    "\n",
    "\n",
    "X_train, X_test, y_train, y_test = train_test_split(\n",
    "    df.drop(['Fe'], axis=1), df['Fe'],\n",
    "    test_size=0.3,\n",
    "    random_state=0)\n",
    "\n",
    "X_train.shape, X_test.shape"
   ]
  },
  {
   "cell_type": "markdown",
   "metadata": {},
   "source": [
    "## Machine Learning Models"
   ]
  },
  {
   "cell_type": "code",
   "execution_count": 11,
   "metadata": {},
   "outputs": [],
   "source": [
    "def error_display(y_test, y_pred):\n",
    "    print('MAE: {}'.format(metrics.mean_absolute_error(y_test, y_pred)))\n",
    "    print('MSE: {}'.format(metrics.mean_squared_error(y_test, y_pred)))\n",
    "    print('RMSE: {}'.format(np.sqrt(metrics.mean_squared_error(y_test, y_pred))))"
   ]
  },
  {
   "cell_type": "markdown",
   "metadata": {},
   "source": [
    "### Linear Regression"
   ]
  },
  {
   "cell_type": "code",
   "execution_count": 12,
   "metadata": {},
   "outputs": [
    {
     "data": {
      "text/plain": [
       "array([[ 0.00118725],\n",
       "       [ 0.00456223],\n",
       "       [ 0.00315845],\n",
       "       [ 0.0045119 ],\n",
       "       [ 0.00448444],\n",
       "       [ 0.00129707],\n",
       "       [ 0.00449817],\n",
       "       [ 0.00453478],\n",
       "       [ 0.00777971],\n",
       "       [ 0.00301202],\n",
       "       [ 0.00440665],\n",
       "       [ 0.00315387],\n",
       "       [ 0.00122385],\n",
       "       [ 0.00447071],\n",
       "       [ 0.00147095],\n",
       "       [ 0.00473612],\n",
       "       [ 0.00276492],\n",
       "       [ 0.00303947],\n",
       "       [ 0.00115521],\n",
       "       [ 0.00459884],\n",
       "       [ 0.0012147 ],\n",
       "       [ 0.0013474 ],\n",
       "       [ 0.00131537],\n",
       "       [ 0.00297998],\n",
       "       [ 0.00283813],\n",
       "       [ 0.00467205],\n",
       "       [ 0.00455308],\n",
       "       [ 0.00106827],\n",
       "       [ 0.00281983],\n",
       "       [ 0.00105454],\n",
       "       [ 0.00470866],\n",
       "       [ 0.00307608],\n",
       "       [ 0.00483679],\n",
       "       [ 0.0046629 ],\n",
       "       [ 0.00284271],\n",
       "       [ 0.00294795],\n",
       "       [ 0.00458054],\n",
       "       [ 0.00457138],\n",
       "       [ 0.00796696],\n",
       "       [ 0.00484136],\n",
       "       [ 0.00116437],\n",
       "       [ 0.00471324],\n",
       "       [-0.00029128],\n",
       "       [ 0.00145265],\n",
       "       [ 0.00142062],\n",
       "       [ 0.00129249],\n",
       "       [ 0.00448902],\n",
       "       [ 0.00140689],\n",
       "       [ 0.00149383],\n",
       "       [ 0.01063319],\n",
       "       [ 0.00139316],\n",
       "       [ 0.00285186],\n",
       "       [ 0.00458511],\n",
       "       [ 0.00134283],\n",
       "       [ 0.004759  ],\n",
       "       [ 0.00111861],\n",
       "       [ 0.0029205 ],\n",
       "       [ 0.00480933],\n",
       "       [ 0.0044158 ],\n",
       "       [ 0.00294338],\n",
       "       [ 0.0046446 ],\n",
       "       [ 0.00128334],\n",
       "       [ 0.0034151 ],\n",
       "       [ 0.00440208],\n",
       "       [ 0.00274204],\n",
       "       [ 0.00450732],\n",
       "       [ 0.00279237],\n",
       "       [ 0.00300744],\n",
       "       [ 0.00481848],\n",
       "       [ 0.00143434],\n",
       "       [ 0.0029388 ],\n",
       "       [ 0.00282898],\n",
       "       [ 0.00276034],\n",
       "       [ 0.00313557],\n",
       "       [ 0.00295711],\n",
       "       [ 0.00110945],\n",
       "       [ 0.00144807],\n",
       "       [ 0.00135655],\n",
       "       [ 0.00455766],\n",
       "       [ 0.00297083],\n",
       "       [ 0.00132452],\n",
       "       [ 0.00126046],\n",
       "       [ 0.00277407],\n",
       "       [ 0.00117809],\n",
       "       [ 0.00114149],\n",
       "       [ 0.00138859],\n",
       "       [ 0.00452563],\n",
       "       [ 0.00283356],\n",
       "       [ 0.0027878 ],\n",
       "       [ 0.00281525]])"
      ]
     },
     "execution_count": 12,
     "metadata": {},
     "output_type": "execute_result"
    }
   ],
   "source": [
    "# defining the Linear Regression algorithm\n",
    "lr = LinearRegression()\n",
    "lr.fit(X_train, y_train)\n",
    "lr_pred = lr.predict(X_test)\n",
    "lr_pred.reshape(-1,1)"
   ]
  },
  {
   "cell_type": "code",
   "execution_count": 13,
   "metadata": {},
   "outputs": [
    {
     "name": "stdout",
     "output_type": "stream",
     "text": [
      "MAE: 2.5506459958378277e-06\n",
      "MSE: 5.855215496045554e-10\n",
      "RMSE: 2.419755255401991e-05\n"
     ]
    }
   ],
   "source": [
    "error_display(lr_pred, y_test)"
   ]
  },
  {
   "cell_type": "markdown",
   "metadata": {},
   "source": [
    "### Random Forest Regressor"
   ]
  },
  {
   "cell_type": "code",
   "execution_count": 14,
   "metadata": {},
   "outputs": [
    {
     "data": {
      "text/plain": [
       "array([[ 0.0011866 ],\n",
       "       [ 0.0045637 ],\n",
       "       [ 0.00316   ],\n",
       "       [ 0.00451629],\n",
       "       [ 0.00447872],\n",
       "       [ 0.00130173],\n",
       "       [ 0.00449625],\n",
       "       [ 0.00453743],\n",
       "       [ 0.0083226 ],\n",
       "       [ 0.00301247],\n",
       "       [ 0.0044078 ],\n",
       "       [ 0.00314934],\n",
       "       [ 0.00122202],\n",
       "       [ 0.00446975],\n",
       "       [ 0.00147347],\n",
       "       [ 0.00473194],\n",
       "       [ 0.0027656 ],\n",
       "       [ 0.00302076],\n",
       "       [ 0.00115434],\n",
       "       [ 0.00460108],\n",
       "       [ 0.00121196],\n",
       "       [ 0.00134855],\n",
       "       [ 0.00131217],\n",
       "       [ 0.0029804 ],\n",
       "       [ 0.00284129],\n",
       "       [ 0.00467169],\n",
       "       [ 0.00454947],\n",
       "       [ 0.00106667],\n",
       "       [ 0.00281951],\n",
       "       [ 0.00105816],\n",
       "       [ 0.00470157],\n",
       "       [ 0.00307612],\n",
       "       [ 0.00483111],\n",
       "       [ 0.0046635 ],\n",
       "       [ 0.00284829],\n",
       "       [ 0.00294718],\n",
       "       [ 0.00458067],\n",
       "       [ 0.00457111],\n",
       "       [ 0.00808663],\n",
       "       [ 0.00483793],\n",
       "       [ 0.00116189],\n",
       "       [ 0.00468341],\n",
       "       [-0.00056092],\n",
       "       [ 0.0014543 ],\n",
       "       [ 0.0014154 ],\n",
       "       [ 0.00129098],\n",
       "       [ 0.0044887 ],\n",
       "       [ 0.0014095 ],\n",
       "       [ 0.00149635],\n",
       "       [ 0.00936515],\n",
       "       [ 0.00139993],\n",
       "       [ 0.00285177],\n",
       "       [ 0.00458534],\n",
       "       [ 0.00134022],\n",
       "       [ 0.00475616],\n",
       "       [ 0.00111742],\n",
       "       [ 0.00292324],\n",
       "       [ 0.00481135],\n",
       "       [ 0.00441416],\n",
       "       [ 0.00294621],\n",
       "       [ 0.00464245],\n",
       "       [ 0.00128435],\n",
       "       [ 0.00339387],\n",
       "       [ 0.00440189],\n",
       "       [ 0.00273984],\n",
       "       [ 0.00450554],\n",
       "       [ 0.00279718],\n",
       "       [ 0.00300273],\n",
       "       [ 0.00481674],\n",
       "       [ 0.00143334],\n",
       "       [ 0.002935  ],\n",
       "       [ 0.00282248],\n",
       "       [ 0.00275627],\n",
       "       [ 0.00313374],\n",
       "       [ 0.00295642],\n",
       "       [ 0.0011068 ],\n",
       "       [ 0.00144656],\n",
       "       [ 0.00135514],\n",
       "       [ 0.00456113],\n",
       "       [ 0.00296822],\n",
       "       [ 0.00132754],\n",
       "       [ 0.00126183],\n",
       "       [ 0.00277627],\n",
       "       [ 0.00117869],\n",
       "       [ 0.00113856],\n",
       "       [ 0.00139993],\n",
       "       [ 0.00452338],\n",
       "       [ 0.00282903],\n",
       "       [ 0.00278391],\n",
       "       [ 0.00281319]])"
      ]
     },
     "execution_count": 14,
     "metadata": {},
     "output_type": "execute_result"
    }
   ],
   "source": [
    "rf = RandomForestRegressor()\n",
    "rf.fit(X_train, y_train)\n",
    "rf_pred = rf.predict(X_test)\n",
    "rf_pred.reshape(-1,1)"
   ]
  },
  {
   "cell_type": "code",
   "execution_count": 15,
   "metadata": {},
   "outputs": [
    {
     "name": "stdout",
     "output_type": "stream",
     "text": [
      "MAE: 3.0081923303419562e-05\n",
      "MSE: 2.333164890308001e-08\n",
      "RMSE: 0.00015274700947344276\n"
     ]
    }
   ],
   "source": [
    "error_display(rf_pred, y_test)"
   ]
  },
  {
   "cell_type": "markdown",
   "metadata": {},
   "source": [
    "### Decision Tree Regressor"
   ]
  },
  {
   "cell_type": "code",
   "execution_count": 16,
   "metadata": {},
   "outputs": [
    {
     "data": {
      "text/plain": [
       "array([[ 0.00118267],\n",
       "       [ 0.00456681],\n",
       "       [ 0.00316302],\n",
       "       [ 0.00451647],\n",
       "       [ 0.00447987],\n",
       "       [ 0.00130164],\n",
       "       [ 0.00449359],\n",
       "       [ 0.00453935],\n",
       "       [ 0.00789355],\n",
       "       [ 0.00301659],\n",
       "       [ 0.00441123],\n",
       "       [ 0.00314929],\n",
       "       [ 0.00121928],\n",
       "       [ 0.00446614],\n",
       "       [ 0.00147553],\n",
       "       [ 0.00473154],\n",
       "       [ 0.00276949],\n",
       "       [ 0.0030349 ],\n",
       "       [ 0.00115064],\n",
       "       [ 0.00460342],\n",
       "       [ 0.00121012],\n",
       "       [ 0.00135198],\n",
       "       [ 0.00131079],\n",
       "       [ 0.00297541],\n",
       "       [ 0.00284728],\n",
       "       [ 0.00466748],\n",
       "       [ 0.00454851],\n",
       "       [ 0.0010637 ],\n",
       "       [ 0.0028244 ],\n",
       "       [ 0.00105912],\n",
       "       [ 0.00470409],\n",
       "       [ 0.0030715 ],\n",
       "       [ 0.00483221],\n",
       "       [ 0.00466748],\n",
       "       [ 0.00284728],\n",
       "       [ 0.00295253],\n",
       "       [ 0.00457596],\n",
       "       [ 0.00456681],\n",
       "       [ 0.00789355],\n",
       "       [ 0.00484594],\n",
       "       [ 0.00115979],\n",
       "       [ 0.00470409],\n",
       "       [-0.00196505],\n",
       "       [ 0.00145722],\n",
       "       [ 0.00141604],\n",
       "       [ 0.00128792],\n",
       "       [ 0.00449359],\n",
       "       [ 0.00141146],\n",
       "       [ 0.00149841],\n",
       "       [ 0.00980623],\n",
       "       [ 0.00139774],\n",
       "       [ 0.00284728],\n",
       "       [ 0.00458969],\n",
       "       [ 0.00133825],\n",
       "       [ 0.00475442],\n",
       "       [ 0.00111403],\n",
       "       [ 0.00292507],\n",
       "       [ 0.00481391],\n",
       "       [ 0.00441123],\n",
       "       [ 0.00295253],\n",
       "       [ 0.00464002],\n",
       "       [ 0.00128792],\n",
       "       [ 0.0035747 ],\n",
       "       [ 0.0043975 ],\n",
       "       [ 0.00273746],\n",
       "       [ 0.00450275],\n",
       "       [ 0.00279695],\n",
       "       [ 0.00300286],\n",
       "       [ 0.00481391],\n",
       "       [ 0.00142977],\n",
       "       [ 0.00293423],\n",
       "       [ 0.0028244 ],\n",
       "       [ 0.00275577],\n",
       "       [ 0.00313099],\n",
       "       [ 0.00295253],\n",
       "       [ 0.00110488],\n",
       "       [ 0.0014435 ],\n",
       "       [ 0.00135198],\n",
       "       [ 0.00456681],\n",
       "       [ 0.00296626],\n",
       "       [ 0.0013291 ],\n",
       "       [ 0.00126504],\n",
       "       [ 0.00277864],\n",
       "       [ 0.00118267],\n",
       "       [ 0.00113691],\n",
       "       [ 0.00139774],\n",
       "       [ 0.00452105],\n",
       "       [ 0.0028244 ],\n",
       "       [ 0.00278322],\n",
       "       [ 0.00281068]])"
      ]
     },
     "execution_count": 16,
     "metadata": {},
     "output_type": "execute_result"
    }
   ],
   "source": [
    "dtr =  DecisionTreeRegressor().fit(X_train, y_train)\n",
    "dtr.fit(X_train, y_train)\n",
    "dtr_pred = dtr.predict(X_test)\n",
    "dtr_pred.reshape(-1,1)"
   ]
  },
  {
   "cell_type": "code",
   "execution_count": 17,
   "metadata": {},
   "outputs": [
    {
     "name": "stdout",
     "output_type": "stream",
     "text": [
      "MAE: 3.718576351990218e-05\n",
      "MSE: 3.944818965032896e-08\n",
      "RMSE: 0.0001986156832939659\n"
     ]
    }
   ],
   "source": [
    "error_display(dtr_pred, y_test)"
   ]
  },
  {
   "cell_type": "markdown",
   "metadata": {},
   "source": [
    "### XGBoost Regressor"
   ]
  },
  {
   "cell_type": "code",
   "execution_count": 18,
   "metadata": {},
   "outputs": [
    {
     "name": "stderr",
     "output_type": "stream",
     "text": [
      "C:\\Users\\Zaur\\anaconda3\\lib\\site-packages\\xgboost\\data.py:112: UserWarning: Use subset (sliced data) of np.ndarray is not recommended because it will generate extra copies and increase memory consumption\n",
      "  warnings.warn(\n"
     ]
    },
    {
     "data": {
      "text/plain": [
       "array([[0.00129017],\n",
       "       [0.00448327],\n",
       "       [0.00306373],\n",
       "       [0.00448327],\n",
       "       [0.00448327],\n",
       "       [0.00135887],\n",
       "       [0.00448327],\n",
       "       [0.00448327],\n",
       "       [0.00786889],\n",
       "       [0.00301077],\n",
       "       [0.00448327],\n",
       "       [0.00306373],\n",
       "       [0.00129017],\n",
       "       [0.00448327],\n",
       "       [0.00141182],\n",
       "       [0.00468177],\n",
       "       [0.00286523],\n",
       "       [0.00301077],\n",
       "       [0.00129017],\n",
       "       [0.00448327],\n",
       "       [0.00129017],\n",
       "       [0.00135887],\n",
       "       [0.00135887],\n",
       "       [0.00293393],\n",
       "       [0.00286523],\n",
       "       [0.00455197],\n",
       "       [0.00448327],\n",
       "       [0.00129017],\n",
       "       [0.00286523],\n",
       "       [0.00129017],\n",
       "       [0.00462882],\n",
       "       [0.00306373],\n",
       "       [0.00468177],\n",
       "       [0.00455197],\n",
       "       [0.00286523],\n",
       "       [0.00293393],\n",
       "       [0.00448327],\n",
       "       [0.00448327],\n",
       "       [0.00773909],\n",
       "       [0.00468177],\n",
       "       [0.00129017],\n",
       "       [0.00468177],\n",
       "       [0.00141182],\n",
       "       [0.00141182],\n",
       "       [0.00141182],\n",
       "       [0.00135887],\n",
       "       [0.00448327],\n",
       "       [0.00141182],\n",
       "       [0.00141182],\n",
       "       [0.0094487 ],\n",
       "       [0.00141182],\n",
       "       [0.00286523],\n",
       "       [0.00448327],\n",
       "       [0.00135887],\n",
       "       [0.00468177],\n",
       "       [0.00129017],\n",
       "       [0.00286523],\n",
       "       [0.00468177],\n",
       "       [0.00448327],\n",
       "       [0.00293393],\n",
       "       [0.00455197],\n",
       "       [0.00135887],\n",
       "       [0.00340035],\n",
       "       [0.00448327],\n",
       "       [0.00286523],\n",
       "       [0.00448327],\n",
       "       [0.00286523],\n",
       "       [0.00301077],\n",
       "       [0.00468177],\n",
       "       [0.00141182],\n",
       "       [0.00293393],\n",
       "       [0.00286523],\n",
       "       [0.00286523],\n",
       "       [0.00306373],\n",
       "       [0.00293393],\n",
       "       [0.00129017],\n",
       "       [0.00141182],\n",
       "       [0.00135887],\n",
       "       [0.00448327],\n",
       "       [0.00293393],\n",
       "       [0.00135887],\n",
       "       [0.00135887],\n",
       "       [0.00286523],\n",
       "       [0.00129017],\n",
       "       [0.00129017],\n",
       "       [0.00141182],\n",
       "       [0.00448327],\n",
       "       [0.00286523],\n",
       "       [0.00286523],\n",
       "       [0.00286523]], dtype=float32)"
      ]
     },
     "execution_count": 18,
     "metadata": {},
     "output_type": "execute_result"
    }
   ],
   "source": [
    "xgb_r = xg.XGBRegressor()\n",
    "xgb_r.fit(X_train, y_train)\n",
    "xgb_pred = xgb_r.predict(X_test)\n",
    "xgb_pred.reshape(-1,1)"
   ]
  },
  {
   "cell_type": "code",
   "execution_count": 19,
   "metadata": {},
   "outputs": [
    {
     "name": "stdout",
     "output_type": "stream",
     "text": [
      "MAE: 9.712393413036082e-05\n",
      "MSE: 5.468319929987776e-08\n",
      "RMSE: 0.0002338443912089357\n"
     ]
    }
   ],
   "source": [
    "error_display(xgb_pred, y_test)"
   ]
  },
  {
   "cell_type": "markdown",
   "metadata": {},
   "source": [
    "### After ML"
   ]
  },
  {
   "cell_type": "code",
   "execution_count": 20,
   "metadata": {},
   "outputs": [],
   "source": [
    "rf_pred_df = pd.DataFrame(rf_pred)\n",
    "rf_pred_df.to_csv('RandomForest_F.csv', index = False)"
   ]
  },
  {
   "cell_type": "code",
   "execution_count": 21,
   "metadata": {},
   "outputs": [],
   "source": [
    "lr_pred_df = pd.DataFrame(lr_pred)\n",
    "lr_pred_df.to_csv('LinearRegression_F.csv', index = False)"
   ]
  },
  {
   "cell_type": "code",
   "execution_count": 22,
   "metadata": {},
   "outputs": [],
   "source": [
    "xgb_pred_df = pd.DataFrame(xgb_pred)\n",
    "xgb_pred_df.to_csv('XGBoostRegression_F.csv', index = False)"
   ]
  },
  {
   "cell_type": "code",
   "execution_count": 23,
   "metadata": {},
   "outputs": [],
   "source": [
    "df_test = pd.DataFrame(y_test)\n",
    "df_test.to_csv('Exact_F.csv', index = False)"
   ]
  },
  {
   "cell_type": "code",
   "execution_count": 24,
   "metadata": {},
   "outputs": [],
   "source": [
    "rf_df = pd.read_csv(r'RandomForest_F.csv')\n",
    "lr_df = pd.read_csv(r'LinearRegression_F.csv')\n",
    "xgb_df = pd.read_csv(r'XGBoostRegression_F.csv')"
   ]
  },
  {
   "cell_type": "code",
   "execution_count": 25,
   "metadata": {},
   "outputs": [],
   "source": [
    "def plott(df, title1, title2):\n",
    "    plt.plot(df[title1][:50], label = 'predicted', color = 'red')\n",
    "    plt.plot(df[title2][:50], label = 'exact', color = 'blue')\n",
    "    plt.legend()"
   ]
  },
  {
   "cell_type": "code",
   "execution_count": 26,
   "metadata": {},
   "outputs": [
    {
     "data": {
      "text/plain": [
       "Text(0.5, 1.0, 'Random Forest Regressor')"
      ]
     },
     "execution_count": 26,
     "metadata": {},
     "output_type": "execute_result"
    },
    {
     "data": {
      "image/png": "[encoded data removed]",
      "text/plain": [
       "<Figure size 432x288 with 1 Axes>"
      ]
     },
     "metadata": {
      "needs_background": "light"
     },
     "output_type": "display_data"
    }
   ],
   "source": [
    "plott(rf_df, 'Predicted', 'Exact')\n",
    "plt.title('Random Forest Regressor')"
   ]
  },
  {
   "cell_type": "code",
   "execution_count": 27,
   "metadata": {},
   "outputs": [
    {
     "data": {
      "text/plain": [
       "Text(0.5, 1.0, 'Linear Regressor')"
      ]
     },
     "execution_count": 27,
     "metadata": {},
     "output_type": "execute_result"
    },
    {
     "data": {
      "image/png": "[encoded data removed]",
      "text/plain": [
       "<Figure size 432x288 with 1 Axes>"
      ]
     },
     "metadata": {
      "needs_background": "light"
     },
     "output_type": "display_data"
    }
   ],
   "source": [
    "plott(lr_df, 'Predicted', 'Exact')\n",
    "plt.title('Linear Regressor')"
   ]
  },
  {
   "cell_type": "code",
   "execution_count": 28,
   "metadata": {},
   "outputs": [
    {
     "data": {
      "text/plain": [
       "Text(0.5, 1.0, 'XGBoost Regressor')"
      ]
     },
     "execution_count": 28,
     "metadata": {},
     "output_type": "execute_result"
    },
    {
     "data": {
      "image/png": "[encoded data removed]",
      "text/plain": [
       "<Figure size 432x288 with 1 Axes>"
      ]
     },
     "metadata": {
      "needs_background": "light"
     },
     "output_type": "display_data"
    }
   ],
   "source": [
    "plott(xgb_df, 'Predicted', 'Exact')\n",
    "plt.title('XGBoost Regressor')"
   ]
  }
 ],
 "metadata": {
  "kernelspec": {
   "display_name": "Python 3",
   "language": "python",
   "name": "python3"
  },
  "language_info": {
   "codemirror_mode": {
    "name": "ipython",
    "version": 3
   },
   "file_extension": ".py",
   "mimetype": "text/x-python",
   "name": "python",
   "nbconvert_exporter": "python",
   "pygments_lexer": "ipython3",
   "version": "3.8.5"
  }
 },
 "nbformat": 4,
 "nbformat_minor": 4
}
